{
 "cells": [
  {
   "cell_type": "code",
   "execution_count": null,
   "id": "5b356d1e",
   "metadata": {},
   "outputs": [],
   "source": [
    "# import needed libraries\n",
    "\n",
    "import matplotlib.pyplot as plt\n",
    "from sklearn import metrics, datasets, tree\n",
    "from sklearn.model_selection import train_test_split, cross_val_score\n",
    "from sklearn.tree import DecisionTreeClassifier\n",
    "from sklearn.metrics import accuracy_score\n",
    "import pandas as pd\n",
    "import seaborn"
   ]
  },
  {
   "cell_type": "code",
   "execution_count": null,
   "id": "abe61ac9",
   "metadata": {},
   "outputs": [
    {
     "data": {
      "text/html": [
       "<div>\n",
       "<style scoped>\n",
       "    .dataframe tbody tr th:only-of-type {\n",
       "        vertical-align: middle;\n",
       "    }\n",
       "\n",
       "    .dataframe tbody tr th {\n",
       "        vertical-align: top;\n",
       "    }\n",
       "\n",
       "    .dataframe thead th {\n",
       "        text-align: right;\n",
       "    }\n",
       "</style>\n",
       "<table border=\"1\" class=\"dataframe\">\n",
       "  <thead>\n",
       "    <tr style=\"text-align: right;\">\n",
       "      <th></th>\n",
       "      <th>age</th>\n",
       "      <th>sex</th>\n",
       "      <th>chest_pain</th>\n",
       "      <th>trestbps</th>\n",
       "      <th>fasting_blood_sugar</th>\n",
       "      <th>restecg</th>\n",
       "      <th>thalach</th>\n",
       "      <th>exercise_induce_angina</th>\n",
       "      <th>oldpeak</th>\n",
       "      <th>outcome</th>\n",
       "    </tr>\n",
       "  </thead>\n",
       "  <tbody>\n",
       "    <tr>\n",
       "      <th>0</th>\n",
       "      <td>28</td>\n",
       "      <td>1</td>\n",
       "      <td>2</td>\n",
       "      <td>130</td>\n",
       "      <td>0</td>\n",
       "      <td>2</td>\n",
       "      <td>185</td>\n",
       "      <td>0</td>\n",
       "      <td>0.0</td>\n",
       "      <td>0</td>\n",
       "    </tr>\n",
       "    <tr>\n",
       "      <th>1</th>\n",
       "      <td>29</td>\n",
       "      <td>1</td>\n",
       "      <td>2</td>\n",
       "      <td>120</td>\n",
       "      <td>0</td>\n",
       "      <td>0</td>\n",
       "      <td>160</td>\n",
       "      <td>0</td>\n",
       "      <td>0.0</td>\n",
       "      <td>0</td>\n",
       "    </tr>\n",
       "    <tr>\n",
       "      <th>2</th>\n",
       "      <td>29</td>\n",
       "      <td>1</td>\n",
       "      <td>2</td>\n",
       "      <td>140</td>\n",
       "      <td>0</td>\n",
       "      <td>0</td>\n",
       "      <td>170</td>\n",
       "      <td>0</td>\n",
       "      <td>0.0</td>\n",
       "      <td>0</td>\n",
       "    </tr>\n",
       "    <tr>\n",
       "      <th>3</th>\n",
       "      <td>30</td>\n",
       "      <td>0</td>\n",
       "      <td>1</td>\n",
       "      <td>170</td>\n",
       "      <td>0</td>\n",
       "      <td>1</td>\n",
       "      <td>170</td>\n",
       "      <td>0</td>\n",
       "      <td>0.0</td>\n",
       "      <td>0</td>\n",
       "    </tr>\n",
       "    <tr>\n",
       "      <th>4</th>\n",
       "      <td>31</td>\n",
       "      <td>0</td>\n",
       "      <td>2</td>\n",
       "      <td>100</td>\n",
       "      <td>0</td>\n",
       "      <td>1</td>\n",
       "      <td>150</td>\n",
       "      <td>0</td>\n",
       "      <td>0.0</td>\n",
       "      <td>0</td>\n",
       "    </tr>\n",
       "    <tr>\n",
       "      <th>...</th>\n",
       "      <td>...</td>\n",
       "      <td>...</td>\n",
       "      <td>...</td>\n",
       "      <td>...</td>\n",
       "      <td>...</td>\n",
       "      <td>...</td>\n",
       "      <td>...</td>\n",
       "      <td>...</td>\n",
       "      <td>...</td>\n",
       "      <td>...</td>\n",
       "    </tr>\n",
       "    <tr>\n",
       "      <th>279</th>\n",
       "      <td>52</td>\n",
       "      <td>1</td>\n",
       "      <td>4</td>\n",
       "      <td>160</td>\n",
       "      <td>0</td>\n",
       "      <td>0</td>\n",
       "      <td>94</td>\n",
       "      <td>1</td>\n",
       "      <td>2.5</td>\n",
       "      <td>1</td>\n",
       "    </tr>\n",
       "    <tr>\n",
       "      <th>280</th>\n",
       "      <td>54</td>\n",
       "      <td>0</td>\n",
       "      <td>3</td>\n",
       "      <td>130</td>\n",
       "      <td>0</td>\n",
       "      <td>1</td>\n",
       "      <td>100</td>\n",
       "      <td>1</td>\n",
       "      <td>0.0</td>\n",
       "      <td>1</td>\n",
       "    </tr>\n",
       "    <tr>\n",
       "      <th>281</th>\n",
       "      <td>56</td>\n",
       "      <td>1</td>\n",
       "      <td>4</td>\n",
       "      <td>155</td>\n",
       "      <td>1</td>\n",
       "      <td>0</td>\n",
       "      <td>150</td>\n",
       "      <td>1</td>\n",
       "      <td>3.0</td>\n",
       "      <td>1</td>\n",
       "    </tr>\n",
       "    <tr>\n",
       "      <th>282</th>\n",
       "      <td>58</td>\n",
       "      <td>0</td>\n",
       "      <td>2</td>\n",
       "      <td>180</td>\n",
       "      <td>0</td>\n",
       "      <td>0</td>\n",
       "      <td>110</td>\n",
       "      <td>1</td>\n",
       "      <td>1.0</td>\n",
       "      <td>1</td>\n",
       "    </tr>\n",
       "    <tr>\n",
       "      <th>283</th>\n",
       "      <td>65</td>\n",
       "      <td>1</td>\n",
       "      <td>4</td>\n",
       "      <td>130</td>\n",
       "      <td>0</td>\n",
       "      <td>1</td>\n",
       "      <td>115</td>\n",
       "      <td>1</td>\n",
       "      <td>1.0</td>\n",
       "      <td>1</td>\n",
       "    </tr>\n",
       "  </tbody>\n",
       "</table>\n",
       "<p>284 rows × 10 columns</p>\n",
       "</div>"
      ],
      "text/plain": [
       "     age  sex  chest_pain  trestbps  fasting_blood_sugar  restecg  thalach  \\\n",
       "0     28    1           2       130                    0        2      185   \n",
       "1     29    1           2       120                    0        0      160   \n",
       "2     29    1           2       140                    0        0      170   \n",
       "3     30    0           1       170                    0        1      170   \n",
       "4     31    0           2       100                    0        1      150   \n",
       "..   ...  ...         ...       ...                  ...      ...      ...   \n",
       "279   52    1           4       160                    0        0       94   \n",
       "280   54    0           3       130                    0        1      100   \n",
       "281   56    1           4       155                    1        0      150   \n",
       "282   58    0           2       180                    0        0      110   \n",
       "283   65    1           4       130                    0        1      115   \n",
       "\n",
       "     exercise_induce_angina  oldpeak  outcome  \n",
       "0                         0      0.0        0  \n",
       "1                         0      0.0        0  \n",
       "2                         0      0.0        0  \n",
       "3                         0      0.0        0  \n",
       "4                         0      0.0        0  \n",
       "..                      ...      ...      ...  \n",
       "279                       1      2.5        1  \n",
       "280                       1      0.0        1  \n",
       "281                       1      3.0        1  \n",
       "282                       1      1.0        1  \n",
       "283                       1      1.0        1  \n",
       "\n",
       "[284 rows x 10 columns]"
      ]
     },
     "execution_count": 42,
     "metadata": {},
     "output_type": "execute_result"
    }
   ],
   "source": [
    "# load data set and remove \n",
    "\n",
    "data = pd.read_csv(\"hungarian_heart_diseases.csv\")\n",
    "data.dropna()"
   ]
  },
  {
   "cell_type": "code",
   "execution_count": null,
   "id": "bccb5fc6",
   "metadata": {},
   "outputs": [],
   "source": [
    "# explorar dados, fazer uns graficos, ver valores duplicados e missing"
   ]
  },
  {
   "cell_type": "code",
   "execution_count": null,
   "id": "5f0c26ed",
   "metadata": {},
   "outputs": [],
   "source": [
    "x = data.drop(columns=['outcome'])\n",
    "y = data['outcome']\n",
    "x_train, x_test, y_train, y_test = train_test_split(x, y, train_size=0.8, stratify=y, random_state = 1)"
   ]
  },
  {
   "cell_type": "code",
   "execution_count": 44,
   "id": "a0af8ee1",
   "metadata": {},
   "outputs": [
    {
     "name": "stdout",
     "output_type": "stream",
     "text": [
      "Predicted results:  [0, 0, 1, 1, 1, 1, 1, 1, 0, 1, 1, 0, 0, 0, 0, 0, 1, 0, 0, 0, 0, 1, 1, 0, 0, 0, 0, 1, 1, 0, 0, 1, 0, 0, 0, 0, 1, 1, 0, 0, 0, 1, 0, 0, 1, 1, 1, 0, 0, 1, 0, 1, 0, 1, 0, 1, 0]\n"
     ]
    }
   ],
   "source": [
    "model = DecisionTreeClassifier(random_state = 1)\n",
    "model.fit(x_train, y_train)\n",
    "y_pred = model.predict(x_test)\n",
    "\n",
    "print('Predicted results: ', y_pred.tolist())"
   ]
  },
  {
   "cell_type": "code",
   "execution_count": null,
   "id": "1debc3d0",
   "metadata": {},
   "outputs": [
    {
     "name": "stdout",
     "output_type": "stream",
     "text": [
      "Accuracy:  0.7719298245614035\n"
     ]
    }
   ],
   "source": [
    "acc_score = accuracy_score(y_test, y_pred)\n",
    "print(\"Accuracy: \", acc_score)"
   ]
  },
  {
   "cell_type": "code",
   "execution_count": null,
   "id": "aa986471",
   "metadata": {},
   "outputs": [
    {
     "name": "stdout",
     "output_type": "stream",
     "text": [
      "Cross validation accuracy score (mean):  0.6763546798029557\n"
     ]
    }
   ],
   "source": [
    "# optional\n",
    "cross_val = cross_val_score(model, x, y, cv=10, scoring='accuracy')\n",
    "cross_val_mean = cross_val.mean()\n",
    "print(\"Cross validation accuracy score (mean): \", cross_val_mean)"
   ]
  },
  {
   "cell_type": "code",
   "execution_count": 47,
   "id": "a8e88b64",
   "metadata": {},
   "outputs": [],
   "source": [
    "min_samples_leaf_values = [1, 3, 5, 10, 25, 50, 100]\n",
    "train_accuracies = []\n",
    "test_accuracies = []\n",
    "\n",
    "for leaf in min_samples_leaf_values:\n",
    "    model = DecisionTreeClassifier(min_samples_leaf=leaf, random_state = 1)\n",
    "    model.fit(x_train, y_train)\n",
    "    \n",
    "    train_acc = accuracy_score(y_train, model.predict(x_train))\n",
    "    test_acc = accuracy_score(y_test, model.predict(x_test))\n",
    "    \n",
    "    train_accuracies.append(train_acc)\n",
    "    test_accuracies.append(test_acc)"
   ]
  },
  {
   "cell_type": "code",
   "execution_count": 48,
   "id": "8fb2bcd0",
   "metadata": {},
   "outputs": [
    {
     "data": {
      "image/png": "[encoded data removed]",
      "text/plain": [
       "<Figure size 800x500 with 1 Axes>"
      ]
     },
     "metadata": {},
     "output_type": "display_data"
    }
   ],
   "source": [
    "plt.figure(figsize=(8, 5))\n",
    "plt.plot(min_samples_leaf_values, train_accuracies, marker='o', label=\"Training Accuracy\")\n",
    "plt.plot(min_samples_leaf_values, test_accuracies, marker='s', label=\"Testing Accuracy\")\n",
    "plt.xlabel(\"min_samples_leaf\")\n",
    "plt.ylabel(\"Accuracy\")\n",
    "plt.title(\"Decision Tree Accuracy vs min_samples_leaf (80-20 split)\")\n",
    "plt.legend()\n",
    "plt.grid(True)\n",
    "plt.show()"
   ]
  },
  {
   "cell_type": "markdown",
   "id": "62be3f17",
   "metadata": {},
   "source": [
    "2."
   ]
  },
  {
   "cell_type": "markdown",
   "id": "f5f78a91",
   "metadata": {},
   "source": [
    "# Analysis\n",
    "\n",
    "Let's analyse the obtained graph:\n",
    "\n",
    "### Min samples leaf [0, 5]:\n",
    "    The graph shows very high training accuracy, and low testing accuracy. This indicates model overfitting, as the model is too adapted to training data. Therefore the generalization capacity is weak at this interval.\n",
    "\n",
    "### Min samples leaf [5, 25]:\n",
    "    In this section, as the tree becomes less complex, the training accuracy decreases and testing accuracy increases sightly. Moreover, the testing accuracy peaks at around leaf=25, where it surpasses training accuracy, indicating a strong bias–variance tradeoff: the model captures relevant data, while filtering out noise. This highlights that the generalization capacity of the model is best around this value.\n",
    "\n",
    "### Min samples leaf [25, 100]:\n",
    "    With high leaf values, both training and testing accuracies decrease greatly, which demonstrates an underfitting of the model, as well as a poor generalization capacity. This happens because, as the tree becomes less complex and the model becomes more constrained, underlying edge cases may not be accounted for.\n",
    "\n",
    "A large gap between testing and training accuracies indicates overfitting (small leaf values), and a small gap indicates underfitting (greater leaf values). Both imply poor generalization for these leaf values.\n",
    "\n",
    "# Conclusion\n",
    "\n",
    "As discussed in the analysis, the decision tree does not generalize well in low leaf values (1-5) because it memorizes the training data and does not perform well for testing. The testing accuracy peaks at around leaf=25, which indicates a maximization of the generalization capacity. For greater leaf values, the model does not perform well and displays underfitting tendencies.\n",
    "\n",
    "In conclusion, the "
   ]
  },
  {
   "cell_type": "markdown",
   "id": "67169ae6",
   "metadata": {},
   "source": [
    "3."
   ]
  }
 ],
 "metadata": {
  "kernelspec": {
   "display_name": "Python 3",
   "language": "python",
   "name": "python3"
  },
  "language_info": {
   "codemirror_mode": {
    "name": "ipython",
    "version": 3
   },
   "file_extension": ".py",
   "mimetype": "text/x-python",
   "name": "python",
   "nbconvert_exporter": "python",
   "pygments_lexer": "ipython3",
   "version": "3.10.12"
  }
 },
 "nbformat": 4,
 "nbformat_minor": 5
}
