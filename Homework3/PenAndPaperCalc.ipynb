{
 "cells": [
  {
   "cell_type": "markdown",
   "id": "b515d596",
   "metadata": {},
   "source": [
    "# Homework 3"
   ]
  },
  {
   "cell_type": "code",
   "execution_count": 29,
   "id": "8ab99a35",
   "metadata": {},
   "outputs": [],
   "source": [
    "# import needed libraries\n",
    "import numpy as np\n",
    "from sklearn.metrics import mean_absolute_error"
   ]
  },
  {
   "cell_type": "markdown",
   "id": "fa0359f5",
   "metadata": {},
   "source": [
    "### Exercise 1"
   ]
  },
  {
   "cell_type": "code",
   "execution_count": 30,
   "id": "818fbdd6",
   "metadata": {},
   "outputs": [],
   "source": [
    "X = np.matrix([\n",
    "    [1, 4],\n",
    "    [1, 1],\n",
    "    [1, 6], \n",
    "    [1, 18],\n",
    "    [1, 8]\n",
    "])\n",
    "\n",
    "z = np.array([3.5, 1, 3.8, 10.1, 8.5])"
   ]
  },
  {
   "cell_type": "code",
   "execution_count": 31,
   "id": "e98eafa1",
   "metadata": {},
   "outputs": [
    {
     "name": "stdout",
     "output_type": "stream",
     "text": [
      "Intercept (w0): 1.46136\n",
      "Slope (w1): 0.52955\n",
      "\n",
      "Predictions: ['3.57955', '1.99091', '4.63864', '10.99318', '5.69773']\n"
     ]
    }
   ],
   "source": [
    "# Calculate weights vector\n",
    "beta_ols = np.linalg.inv(X.T @ X) @ X.T @ z\n",
    "beta_ols = np.array(beta_ols).flatten()\n",
    "\n",
    "# Extract intercept and slope\n",
    "w0, w1 = beta_ols\n",
    "\n",
    "print(f\"Intercept (w0): {w0:.5f}\")\n",
    "print(f\"Slope (w1): {w1:.5f}\")\n",
    "\n",
    "# Predict y_num using the model\n",
    "y_pred = list(map(lambda x: f\"{x:.5f}\", np.array(X @ beta_ols).flatten()))\n",
    "print(\"\\nPredictions:\", y_pred)"
   ]
  },
  {
   "cell_type": "markdown",
   "id": "3a78ac48",
   "metadata": {},
   "source": [
    "### Exercise 2"
   ]
  },
  {
   "cell_type": "code",
   "execution_count": 32,
   "id": "5896bbd7",
   "metadata": {},
   "outputs": [
    {
     "name": "stdout",
     "output_type": "stream",
     "text": [
      "Intercept (w0): 0.97319\n",
      "Slope (w1): 0.56921\n",
      "\n",
      "Predictions: ['3.25004', '1.54240', '4.38846', '11.21902', '5.52689']\n",
      "\n",
      "Mean Absolute Error: 1.09459\n"
     ]
    }
   ],
   "source": [
    "# Calculate Ridge weights vector\n",
    "penalty = 1\n",
    "\n",
    "I = np.eye(X.shape[1])\n",
    "# I[0, 0] = 0  # don't regularize intercept\n",
    "\n",
    "beta_ridge = np.linalg.inv(X.T @ X + I*penalty) @ X.T @ z\n",
    "beta_ridge = np.array(beta_ridge).flatten()\n",
    "\n",
    "# Extract intercept and slope\n",
    "w0, w1 = beta_ridge\n",
    "\n",
    "print(f\"Intercept (w0): {w0:.5f}\")\n",
    "print(f\"Slope (w1): {w1:.5f}\")\n",
    "\n",
    "# Predict y_num using the model\n",
    "y_pred = list(map(lambda x: f\"{x:.5f}\", np.array(X @ beta_ridge).flatten()))\n",
    "print(\"\\nPredictions:\", y_pred)\n",
    "\n",
    "ols_mean_absolute_error = mean_absolute_error(z, y_pred)\n",
    "print(f\"\\nMean Absolute Error: {ols_mean_absolute_error:.5f}\")\n"
   ]
  },
  {
   "cell_type": "markdown",
   "id": "4e908cf8",
   "metadata": {},
   "source": [
    "### Exercise 3"
   ]
  },
  {
   "cell_type": "code",
   "execution_count": 33,
   "id": "6395a9a6",
   "metadata": {},
   "outputs": [],
   "source": [
    "X_test = np.matrix([\n",
    "    [1, 0],\n",
    "    [1, 12],\n",
    "    [1, 5]\n",
    "])\n",
    "\n",
    "z_test = np.array([1, 6.2, 3.6])"
   ]
  },
  {
   "cell_type": "code",
   "execution_count": 34,
   "id": "965b8ba5",
   "metadata": {},
   "outputs": [
    {
     "name": "stdout",
     "output_type": "stream",
     "text": [
      "\n",
      "OLS Test Predictions: ['1.46136', '7.81591', '4.10909']\n",
      "\n",
      "Ridge Test Predictions: ['0.97319', '7.80374', '3.81925']\n",
      "\n",
      "Mean Absolute Error: 0.61660\n"
     ]
    }
   ],
   "source": [
    "y_pred_test_ols = list(map(lambda x: f\"{x:.5f}\", np.array(X_test @ beta_ols).flatten()))\n",
    "print(\"\\nOLS Test Predictions:\", y_pred_test_ols)\n",
    "\n",
    "y_pred_test_ridge = list(map(lambda x: f\"{x:.5f}\", np.array(X_test @ beta_ridge).flatten()))\n",
    "print(\"\\nRidge Test Predictions:\", y_pred_test_ridge)\n",
    "\n",
    "ridge_mean_absolute_error = mean_absolute_error(z_test, y_pred_test_ridge)\n",
    "print(f\"\\nMean Absolute Error: {ridge_mean_absolute_error:.5f}\")"
   ]
  }
 ],
 "metadata": {
  "kernelspec": {
   "display_name": "Python 3",
   "language": "python",
   "name": "python3"
  },
  "language_info": {
   "codemirror_mode": {
    "name": "ipython",
    "version": 3
   },
   "file_extension": ".py",
   "mimetype": "text/x-python",
   "name": "python",
   "nbconvert_exporter": "python",
   "pygments_lexer": "ipython3",
   "version": "3.10.12"
  }
 },
 "nbformat": 4,
 "nbformat_minor": 5
}
