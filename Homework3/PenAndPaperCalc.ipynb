{
 "cells": [
  {
   "cell_type": "markdown",
   "id": "b515d596",
   "metadata": {},
   "source": [
    "# Homework 3"
   ]
  },
  {
   "cell_type": "code",
   "execution_count": 33,
   "id": "8ab99a35",
   "metadata": {},
   "outputs": [],
   "source": [
    "# import needed libraries\n",
    "import numpy as np"
   ]
  },
  {
   "cell_type": "markdown",
   "id": "fa0359f5",
   "metadata": {},
   "source": [
    "### Exercise 1"
   ]
  },
  {
   "cell_type": "code",
   "execution_count": 34,
   "id": "818fbdd6",
   "metadata": {},
   "outputs": [],
   "source": [
    "X = np.matrix([\n",
    "    [1, 4],\n",
    "    [1, 1],\n",
    "    [1, 6], \n",
    "    [1, 18],\n",
    "    [1, 8]\n",
    "])\n",
    "\n",
    "z = np.array([3.5, 1, 3.8, 10.1, 8.5])"
   ]
  },
  {
   "cell_type": "code",
   "execution_count": 35,
   "id": "e98eafa1",
   "metadata": {},
   "outputs": [
    {
     "name": "stdout",
     "output_type": "stream",
     "text": [
      "Intercept (w0): 1.46136\n",
      "Slope (w1): 0.52955\n",
      "\n",
      "Predictions: [[ 3.57954545  1.99090909  4.63863636 10.99318182  5.69772727]]\n"
     ]
    }
   ],
   "source": [
    "# Calculate weights vector\n",
    "beta = np.linalg.inv(X.T @ X) @ X.T @ z\n",
    "beta = np.array(beta).flatten()\n",
    "\n",
    "# Extract intercept and slope\n",
    "w0, w1 = beta\n",
    "\n",
    "print(f\"Intercept (w0): {w0:.5f}\")\n",
    "print(f\"Slope (w1): {w1:.5f}\")\n",
    "\n",
    "# Predict y_num using the model\n",
    "y_pred = X @ beta\n",
    "print(\"\\nPredictions:\", y_pred)"
   ]
  },
  {
   "cell_type": "markdown",
   "id": "3a78ac48",
   "metadata": {},
   "source": [
    "### Exercise 2"
   ]
  },
  {
   "cell_type": "code",
   "execution_count": 36,
   "id": "5896bbd7",
   "metadata": {},
   "outputs": [
    {
     "name": "stdout",
     "output_type": "stream",
     "text": [
      "Intercept (w0): 0.97319\n",
      "Slope (w1): 0.56921\n",
      "\n",
      "Predictions: [[ 3.25003897  1.54240062  4.38846454 11.21901793  5.5268901 ]]\n"
     ]
    }
   ],
   "source": [
    "# Calculate Ridge weights vector\n",
    "penalty = 1\n",
    "\n",
    "beta = np.linalg.inv(X.T @ X + np.identity(n=2)*penalty) @ X.T @ z\n",
    "beta = np.array(beta).flatten()\n",
    "\n",
    "# Extract intercept and slope\n",
    "w0, w1 = beta\n",
    "\n",
    "print(f\"Intercept (w0): {w0:.5f}\")\n",
    "print(f\"Slope (w1): {w1:.5f}\")\n",
    "\n",
    "# Predict y_num using the model\n",
    "y_pred = X @ beta\n",
    "print(\"\\nPredictions:\", y_pred)"
   ]
  }
 ],
 "metadata": {
  "kernelspec": {
   "display_name": "Python 3",
   "language": "python",
   "name": "python3"
  },
  "language_info": {
   "codemirror_mode": {
    "name": "ipython",
    "version": 3
   },
   "file_extension": ".py",
   "mimetype": "text/x-python",
   "name": "python",
   "nbconvert_exporter": "python",
   "pygments_lexer": "ipython3",
   "version": "3.10.12"
  }
 },
 "nbformat": 4,
 "nbformat_minor": 5
}
