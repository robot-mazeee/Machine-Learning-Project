{
 "cells": [
  {
   "cell_type": "markdown",
   "id": "62a273c2",
   "metadata": {},
   "source": [
    "# Homework 4"
   ]
  },
  {
   "cell_type": "markdown",
   "id": "0b505bba",
   "metadata": {},
   "source": [
    "## 1) Preprocess Dataset"
   ]
  },
  {
   "cell_type": "code",
   "execution_count": 80,
   "id": "a7aa136d",
   "metadata": {},
   "outputs": [],
   "source": [
    "# import needed libraries\n",
    "import matplotlib.pyplot as plt\n",
    "import pandas as pd\n",
    "from sklearn.preprocessing import MinMaxScaler\n",
    "from sklearn.cluster import KMeans\n",
    "from sklearn.metrics import accuracy_score, confusion_matrix, precision_score, recall_score, f1_score\n",
    "from sklearn.decomposition import PCA\n",
    "import numpy as np\n",
    "import seaborn as sns"
   ]
  },
  {
   "cell_type": "code",
   "execution_count": 81,
   "id": "766bb155",
   "metadata": {},
   "outputs": [],
   "source": [
    "# load dataset\n",
    "df = pd.read_csv(\"diabetes.csv\")"
   ]
  },
  {
   "cell_type": "code",
   "execution_count": 82,
   "id": "f6dda740",
   "metadata": {},
   "outputs": [
    {
     "data": {
      "text/plain": [
       "Pregnancies                 0\n",
       "Glucose                     0\n",
       "BloodPressure               0\n",
       "SkinThickness               0\n",
       "Insulin                     0\n",
       "BMI                         0\n",
       "DiabetesPedigreeFunction    0\n",
       "Age                         0\n",
       "Outcome                     0\n",
       "dtype: int64"
      ]
     },
     "execution_count": 82,
     "metadata": {},
     "output_type": "execute_result"
    }
   ],
   "source": [
    "# check for missing values\n",
    "df.isnull().sum()"
   ]
  },
  {
   "cell_type": "code",
   "execution_count": 83,
   "id": "75961599",
   "metadata": {},
   "outputs": [
    {
     "data": {
      "text/html": [
       "<div>\n",
       "<style scoped>\n",
       "    .dataframe tbody tr th:only-of-type {\n",
       "        vertical-align: middle;\n",
       "    }\n",
       "\n",
       "    .dataframe tbody tr th {\n",
       "        vertical-align: top;\n",
       "    }\n",
       "\n",
       "    .dataframe thead th {\n",
       "        text-align: right;\n",
       "    }\n",
       "</style>\n",
       "<table border=\"1\" class=\"dataframe\">\n",
       "  <thead>\n",
       "    <tr style=\"text-align: right;\">\n",
       "      <th></th>\n",
       "      <th>Pregnancies</th>\n",
       "      <th>Glucose</th>\n",
       "      <th>BloodPressure</th>\n",
       "      <th>SkinThickness</th>\n",
       "      <th>Insulin</th>\n",
       "      <th>BMI</th>\n",
       "      <th>DiabetesPedigreeFunction</th>\n",
       "      <th>Age</th>\n",
       "      <th>Outcome</th>\n",
       "    </tr>\n",
       "  </thead>\n",
       "  <tbody>\n",
       "    <tr>\n",
       "      <th>0</th>\n",
       "      <td>6</td>\n",
       "      <td>148</td>\n",
       "      <td>72</td>\n",
       "      <td>35</td>\n",
       "      <td>0</td>\n",
       "      <td>33.6</td>\n",
       "      <td>0.627</td>\n",
       "      <td>50</td>\n",
       "      <td>1</td>\n",
       "    </tr>\n",
       "    <tr>\n",
       "      <th>1</th>\n",
       "      <td>1</td>\n",
       "      <td>85</td>\n",
       "      <td>66</td>\n",
       "      <td>29</td>\n",
       "      <td>0</td>\n",
       "      <td>26.6</td>\n",
       "      <td>0.351</td>\n",
       "      <td>31</td>\n",
       "      <td>0</td>\n",
       "    </tr>\n",
       "    <tr>\n",
       "      <th>2</th>\n",
       "      <td>8</td>\n",
       "      <td>183</td>\n",
       "      <td>64</td>\n",
       "      <td>0</td>\n",
       "      <td>0</td>\n",
       "      <td>23.3</td>\n",
       "      <td>0.672</td>\n",
       "      <td>32</td>\n",
       "      <td>1</td>\n",
       "    </tr>\n",
       "    <tr>\n",
       "      <th>3</th>\n",
       "      <td>1</td>\n",
       "      <td>89</td>\n",
       "      <td>66</td>\n",
       "      <td>23</td>\n",
       "      <td>94</td>\n",
       "      <td>28.1</td>\n",
       "      <td>0.167</td>\n",
       "      <td>21</td>\n",
       "      <td>0</td>\n",
       "    </tr>\n",
       "    <tr>\n",
       "      <th>4</th>\n",
       "      <td>0</td>\n",
       "      <td>137</td>\n",
       "      <td>40</td>\n",
       "      <td>35</td>\n",
       "      <td>168</td>\n",
       "      <td>43.1</td>\n",
       "      <td>2.288</td>\n",
       "      <td>33</td>\n",
       "      <td>1</td>\n",
       "    </tr>\n",
       "    <tr>\n",
       "      <th>...</th>\n",
       "      <td>...</td>\n",
       "      <td>...</td>\n",
       "      <td>...</td>\n",
       "      <td>...</td>\n",
       "      <td>...</td>\n",
       "      <td>...</td>\n",
       "      <td>...</td>\n",
       "      <td>...</td>\n",
       "      <td>...</td>\n",
       "    </tr>\n",
       "    <tr>\n",
       "      <th>763</th>\n",
       "      <td>10</td>\n",
       "      <td>101</td>\n",
       "      <td>76</td>\n",
       "      <td>48</td>\n",
       "      <td>180</td>\n",
       "      <td>32.9</td>\n",
       "      <td>0.171</td>\n",
       "      <td>63</td>\n",
       "      <td>0</td>\n",
       "    </tr>\n",
       "    <tr>\n",
       "      <th>764</th>\n",
       "      <td>2</td>\n",
       "      <td>122</td>\n",
       "      <td>70</td>\n",
       "      <td>27</td>\n",
       "      <td>0</td>\n",
       "      <td>36.8</td>\n",
       "      <td>0.340</td>\n",
       "      <td>27</td>\n",
       "      <td>0</td>\n",
       "    </tr>\n",
       "    <tr>\n",
       "      <th>765</th>\n",
       "      <td>5</td>\n",
       "      <td>121</td>\n",
       "      <td>72</td>\n",
       "      <td>23</td>\n",
       "      <td>112</td>\n",
       "      <td>26.2</td>\n",
       "      <td>0.245</td>\n",
       "      <td>30</td>\n",
       "      <td>0</td>\n",
       "    </tr>\n",
       "    <tr>\n",
       "      <th>766</th>\n",
       "      <td>1</td>\n",
       "      <td>126</td>\n",
       "      <td>60</td>\n",
       "      <td>0</td>\n",
       "      <td>0</td>\n",
       "      <td>30.1</td>\n",
       "      <td>0.349</td>\n",
       "      <td>47</td>\n",
       "      <td>1</td>\n",
       "    </tr>\n",
       "    <tr>\n",
       "      <th>767</th>\n",
       "      <td>1</td>\n",
       "      <td>93</td>\n",
       "      <td>70</td>\n",
       "      <td>31</td>\n",
       "      <td>0</td>\n",
       "      <td>30.4</td>\n",
       "      <td>0.315</td>\n",
       "      <td>23</td>\n",
       "      <td>0</td>\n",
       "    </tr>\n",
       "  </tbody>\n",
       "</table>\n",
       "<p>768 rows × 9 columns</p>\n",
       "</div>"
      ],
      "text/plain": [
       "     Pregnancies  Glucose  BloodPressure  SkinThickness  Insulin   BMI  \\\n",
       "0              6      148             72             35        0  33.6   \n",
       "1              1       85             66             29        0  26.6   \n",
       "2              8      183             64              0        0  23.3   \n",
       "3              1       89             66             23       94  28.1   \n",
       "4              0      137             40             35      168  43.1   \n",
       "..           ...      ...            ...            ...      ...   ...   \n",
       "763           10      101             76             48      180  32.9   \n",
       "764            2      122             70             27        0  36.8   \n",
       "765            5      121             72             23      112  26.2   \n",
       "766            1      126             60              0        0  30.1   \n",
       "767            1       93             70             31        0  30.4   \n",
       "\n",
       "     DiabetesPedigreeFunction  Age  Outcome  \n",
       "0                       0.627   50        1  \n",
       "1                       0.351   31        0  \n",
       "2                       0.672   32        1  \n",
       "3                       0.167   21        0  \n",
       "4                       2.288   33        1  \n",
       "..                        ...  ...      ...  \n",
       "763                     0.171   63        0  \n",
       "764                     0.340   27        0  \n",
       "765                     0.245   30        0  \n",
       "766                     0.349   47        1  \n",
       "767                     0.315   23        0  \n",
       "\n",
       "[768 rows x 9 columns]"
      ]
     },
     "execution_count": 83,
     "metadata": {},
     "output_type": "execute_result"
    }
   ],
   "source": [
    "df"
   ]
  },
  {
   "cell_type": "code",
   "execution_count": 84,
   "id": "00d326b5",
   "metadata": {},
   "outputs": [
    {
     "data": {
      "text/html": [
       "<div>\n",
       "<style scoped>\n",
       "    .dataframe tbody tr th:only-of-type {\n",
       "        vertical-align: middle;\n",
       "    }\n",
       "\n",
       "    .dataframe tbody tr th {\n",
       "        vertical-align: top;\n",
       "    }\n",
       "\n",
       "    .dataframe thead th {\n",
       "        text-align: right;\n",
       "    }\n",
       "</style>\n",
       "<table border=\"1\" class=\"dataframe\">\n",
       "  <thead>\n",
       "    <tr style=\"text-align: right;\">\n",
       "      <th></th>\n",
       "      <th>Pregnancies</th>\n",
       "      <th>Glucose</th>\n",
       "      <th>BloodPressure</th>\n",
       "      <th>SkinThickness</th>\n",
       "      <th>Insulin</th>\n",
       "      <th>BMI</th>\n",
       "      <th>DiabetesPedigreeFunction</th>\n",
       "      <th>Age</th>\n",
       "      <th>Outcome</th>\n",
       "    </tr>\n",
       "  </thead>\n",
       "  <tbody>\n",
       "    <tr>\n",
       "      <th>count</th>\n",
       "      <td>768.000000</td>\n",
       "      <td>768.000000</td>\n",
       "      <td>768.000000</td>\n",
       "      <td>768.000000</td>\n",
       "      <td>768.000000</td>\n",
       "      <td>768.000000</td>\n",
       "      <td>768.000000</td>\n",
       "      <td>768.000000</td>\n",
       "      <td>768.000000</td>\n",
       "    </tr>\n",
       "    <tr>\n",
       "      <th>mean</th>\n",
       "      <td>3.845052</td>\n",
       "      <td>120.894531</td>\n",
       "      <td>69.105469</td>\n",
       "      <td>20.536458</td>\n",
       "      <td>79.799479</td>\n",
       "      <td>31.992578</td>\n",
       "      <td>0.471876</td>\n",
       "      <td>33.240885</td>\n",
       "      <td>0.348958</td>\n",
       "    </tr>\n",
       "    <tr>\n",
       "      <th>std</th>\n",
       "      <td>3.369578</td>\n",
       "      <td>31.972618</td>\n",
       "      <td>19.355807</td>\n",
       "      <td>15.952218</td>\n",
       "      <td>115.244002</td>\n",
       "      <td>7.884160</td>\n",
       "      <td>0.331329</td>\n",
       "      <td>11.760232</td>\n",
       "      <td>0.476951</td>\n",
       "    </tr>\n",
       "    <tr>\n",
       "      <th>min</th>\n",
       "      <td>0.000000</td>\n",
       "      <td>0.000000</td>\n",
       "      <td>0.000000</td>\n",
       "      <td>0.000000</td>\n",
       "      <td>0.000000</td>\n",
       "      <td>0.000000</td>\n",
       "      <td>0.078000</td>\n",
       "      <td>21.000000</td>\n",
       "      <td>0.000000</td>\n",
       "    </tr>\n",
       "    <tr>\n",
       "      <th>25%</th>\n",
       "      <td>1.000000</td>\n",
       "      <td>99.000000</td>\n",
       "      <td>62.000000</td>\n",
       "      <td>0.000000</td>\n",
       "      <td>0.000000</td>\n",
       "      <td>27.300000</td>\n",
       "      <td>0.243750</td>\n",
       "      <td>24.000000</td>\n",
       "      <td>0.000000</td>\n",
       "    </tr>\n",
       "    <tr>\n",
       "      <th>50%</th>\n",
       "      <td>3.000000</td>\n",
       "      <td>117.000000</td>\n",
       "      <td>72.000000</td>\n",
       "      <td>23.000000</td>\n",
       "      <td>30.500000</td>\n",
       "      <td>32.000000</td>\n",
       "      <td>0.372500</td>\n",
       "      <td>29.000000</td>\n",
       "      <td>0.000000</td>\n",
       "    </tr>\n",
       "    <tr>\n",
       "      <th>75%</th>\n",
       "      <td>6.000000</td>\n",
       "      <td>140.250000</td>\n",
       "      <td>80.000000</td>\n",
       "      <td>32.000000</td>\n",
       "      <td>127.250000</td>\n",
       "      <td>36.600000</td>\n",
       "      <td>0.626250</td>\n",
       "      <td>41.000000</td>\n",
       "      <td>1.000000</td>\n",
       "    </tr>\n",
       "    <tr>\n",
       "      <th>max</th>\n",
       "      <td>17.000000</td>\n",
       "      <td>199.000000</td>\n",
       "      <td>122.000000</td>\n",
       "      <td>99.000000</td>\n",
       "      <td>846.000000</td>\n",
       "      <td>67.100000</td>\n",
       "      <td>2.420000</td>\n",
       "      <td>81.000000</td>\n",
       "      <td>1.000000</td>\n",
       "    </tr>\n",
       "  </tbody>\n",
       "</table>\n",
       "</div>"
      ],
      "text/plain": [
       "       Pregnancies     Glucose  BloodPressure  SkinThickness     Insulin  \\\n",
       "count   768.000000  768.000000     768.000000     768.000000  768.000000   \n",
       "mean      3.845052  120.894531      69.105469      20.536458   79.799479   \n",
       "std       3.369578   31.972618      19.355807      15.952218  115.244002   \n",
       "min       0.000000    0.000000       0.000000       0.000000    0.000000   \n",
       "25%       1.000000   99.000000      62.000000       0.000000    0.000000   \n",
       "50%       3.000000  117.000000      72.000000      23.000000   30.500000   \n",
       "75%       6.000000  140.250000      80.000000      32.000000  127.250000   \n",
       "max      17.000000  199.000000     122.000000      99.000000  846.000000   \n",
       "\n",
       "              BMI  DiabetesPedigreeFunction         Age     Outcome  \n",
       "count  768.000000                768.000000  768.000000  768.000000  \n",
       "mean    31.992578                  0.471876   33.240885    0.348958  \n",
       "std      7.884160                  0.331329   11.760232    0.476951  \n",
       "min      0.000000                  0.078000   21.000000    0.000000  \n",
       "25%     27.300000                  0.243750   24.000000    0.000000  \n",
       "50%     32.000000                  0.372500   29.000000    0.000000  \n",
       "75%     36.600000                  0.626250   41.000000    1.000000  \n",
       "max     67.100000                  2.420000   81.000000    1.000000  "
      ]
     },
     "execution_count": 84,
     "metadata": {},
     "output_type": "execute_result"
    }
   ],
   "source": [
    "df.describe()"
   ]
  },
  {
   "cell_type": "code",
   "execution_count": 85,
   "id": "1acead2c",
   "metadata": {},
   "outputs": [],
   "source": [
    "# separate input from output variables\n",
    "x = df.drop(columns=['Outcome'])\n",
    "y = df['Outcome']\n",
    "\n",
    "# normalize data as requested\n",
    "scaler = MinMaxScaler()\n",
    "X = scaler.fit_transform(x)\n",
    "\n",
    "# keep as a DataFrame for convenience when inspecting\n",
    "X = pd.DataFrame(X, columns=x.columns)"
   ]
  },
  {
   "cell_type": "markdown",
   "id": "bcaee592",
   "metadata": {},
   "source": [
    "## 2) Part A: Clustering"
   ]
  },
  {
   "cell_type": "markdown",
   "id": "414e8a85",
   "metadata": {},
   "source": [
    "### 1."
   ]
  },
  {
   "cell_type": "code",
   "execution_count": 86,
   "id": "5c34c079",
   "metadata": {},
   "outputs": [
    {
     "data": {
      "image/png": "[encoded data removed]",
      "text/plain": [
       "<Figure size 800x500 with 1 Axes>"
      ]
     },
     "metadata": {},
     "output_type": "display_data"
    }
   ],
   "source": [
    "k_means_values = [2, 3, 4, 5, 6, 7, 8, 9, 10, 11]\n",
    "sse = []\n",
    "\n",
    "# calculate SSE for each k\n",
    "for k in k_means_values:\n",
    "    kmeans = KMeans(n_clusters=k, max_iter=500, random_state=42)\n",
    "    kmeans.fit(X)\n",
    "    sse.append(kmeans.inertia_) # inertia_ is the SSE\n",
    "\n",
    "# Plot the graph\n",
    "plt.figure(figsize=(8, 5))\n",
    "plt.plot(k_means_values, sse, marker='o')\n",
    "plt.xticks(k_means_values)\n",
    "plt.xlabel('Number of clusters (k)')\n",
    "plt.ylabel('SSE (Sum of squared errors)')\n",
    "plt.title('Elbow Method For Optimal k')\n",
    "plt.grid(True)\n",
    "plt.show()"
   ]
  },
  {
   "cell_type": "markdown",
   "id": "e8b0748d",
   "metadata": {},
   "source": [
    "### 2."
   ]
  },
  {
   "cell_type": "code",
   "execution_count": 87,
   "id": "a2d3ff8c",
   "metadata": {},
   "outputs": [
    {
     "name": "stdout",
     "output_type": "stream",
     "text": [
      "Confusion Matrix:\n",
      " [[390 110]\n",
      " [119 149]]\n",
      "Accuracy: 0.7018229166666666\n",
      "Precision: 0.6995855884301365\n",
      "Recall: 0.7018229166666666\n",
      "F1-score: 0.7006066409587589\n"
     ]
    }
   ],
   "source": [
    "# fit KMeans with k=6\n",
    "kmeans = KMeans(n_clusters=6, random_state=42)\n",
    "clusters = kmeans.fit_predict(X)\n",
    "\n",
    "# classify based on majority class of the cluster\n",
    "\n",
    "# Map clusters to majority class\n",
    "cluster_to_majority = {}\n",
    "for cluster_id in range(6):\n",
    "    labels_in_cluster = y[clusters == cluster_id]\n",
    "    majority_class = np.bincount(labels_in_cluster).argmax() # counts how many times each class appears in the cluster and choose the most often one\n",
    "    cluster_to_majority[cluster_id] = majority_class\n",
    "\n",
    "# Predicted labels based on majority class\n",
    "y_pred = np.array([cluster_to_majority[c] for c in clusters])\n",
    "\n",
    "# compute the confusion matrix, accuracy, precision, recall and F1-score\n",
    "cm = confusion_matrix(y, y_pred)\n",
    "print(\"Confusion Matrix:\\n\", cm)\n",
    "\n",
    "accuracy = accuracy_score(y, y_pred)\n",
    "print(\"Accuracy:\", accuracy)\n",
    "\n",
    "precision = precision_score(y, y_pred, average='weighted')\n",
    "print(\"Precision:\", precision)\n",
    "\n",
    "recall = recall_score(y, y_pred, average='weighted')\n",
    "print(\"Recall:\", recall)\n",
    "\n",
    "f1 = f1_score(y, y_pred, average='weighted')\n",
    "print(\"F1-score:\", f1)"
   ]
  },
  {
   "cell_type": "markdown",
   "id": "eb899aec",
   "metadata": {},
   "source": [
    "Although the model achieved moderate performance (accuracy, precision, recall and F1-score ≈ 0.70), it cannot be considered a good classification model.\n",
    "\n",
    "K-Means is an unsupervised algorithm, meaning it has no prior knowledge of the dataset’s true labels. It aims to minimize the distance between data points and their assigned cluster centroids rather than to separate classes effectively. As a result, clusters may contain mixed class labels.\n",
    "\n",
    "There are several limitations to using clustering algorithms like K-Means for classification tasks. Because it does not use class information during training, the clusters formed may not align with the actual labels. The number of clusters (*k*) must be chosen manually, and an inappropriate value can lead to poor classification performance, either underfitting (too few clusters) or overfitting (too many clusters). Additionally, K-Means assumes that each cluster is compact and well-separated, but in real-world datasets, classes often overlap or have complex, non-spherical shapes that clustering cannot accurately capture.\n",
    "\n",
    "In summary, clustering algorithms such as K-Means are not well-suited for classification tasks due to their unsupervised nature, sensitivity to the choice of *k*, and assumptions about data distribution. For classification problems, supervised learning algorithms that learn directly from labeled examples are more suitable and generally achieve better performance."
   ]
  },
  {
   "cell_type": "markdown",
   "id": "568b0ada",
   "metadata": {},
   "source": [
    "### 3."
   ]
  },
  {
   "cell_type": "code",
   "execution_count": 88,
   "id": "f0d1272a",
   "metadata": {},
   "outputs": [
    {
     "name": "stdout",
     "output_type": "stream",
     "text": [
      "Class Distribution:\n",
      "   Class 0: 500 samples\n",
      "   Class 1: 268 samples\n",
      "\n",
      "Cluster Centers:\n",
      "   Cluster 0: [0.1106, 0.7511, 0.6104, 0.3454, 0.2477, 0.5525, 0.2330, 0.1354]\n",
      "   Cluster 1: [0.1040, 0.4980, 0.5489, 0.2387, 0.0693, 0.4474, 0.1479, 0.0698]\n",
      "   Cluster 2: [0.3504, 0.6794, 0.6591, 0.0517, 0.0096, 0.4399, 0.1390, 0.5969]\n",
      "   Cluster 3: [0.2134, 0.5920, 0.0000, 0.0153, 0.0000, 0.3831, 0.1325, 0.1619]\n",
      "   Cluster 4: [0.2833, 0.6184, 0.6045, 0.0166, 0.0109, 0.4740, 0.1418, 0.1960]\n",
      "   Cluster 5: [0.5016, 0.6527, 0.6281, 0.3200, 0.1427, 0.5109, 0.1965, 0.3812]\n",
      "-------------------------------------------------------------------------------\n",
      "Cluster 0: 134 samples\n",
      "   Class 0: 61 (45.5%)\n",
      "   Class 1: 73 (54.5%)\n",
      "   Majority class: 1\n",
      "   Purity: 0.545\n",
      "\n",
      "Cluster 1: 280 samples\n",
      "   Class 0: 254 (90.7%)\n",
      "   Class 1: 26 (9.3%)\n",
      "   Majority class: 0\n",
      "   Purity: 0.907\n",
      "\n",
      "Cluster 2: 69 samples\n",
      "   Class 0: 43 (62.3%)\n",
      "   Class 1: 26 (37.7%)\n",
      "   Majority class: 0\n",
      "   Purity: 0.623\n",
      "\n",
      "Cluster 3: 35 samples\n",
      "   Class 0: 19 (54.3%)\n",
      "   Class 1: 16 (45.7%)\n",
      "   Majority class: 0\n",
      "   Purity: 0.543\n",
      "\n",
      "Cluster 4: 125 samples\n",
      "   Class 0: 74 (59.2%)\n",
      "   Class 1: 51 (40.8%)\n",
      "   Majority class: 0\n",
      "   Purity: 0.592\n",
      "\n",
      "Cluster 5: 125 samples\n",
      "   Class 0: 49 (39.2%)\n",
      "   Class 1: 76 (60.8%)\n",
      "   Majority class: 1\n",
      "   Purity: 0.608\n",
      "\n",
      "Cluster 0: 0.545\n",
      "Cluster 1: 0.907\n",
      "Cluster 2: 0.623\n",
      "Cluster 3: 0.543\n",
      "Cluster 4: 0.592\n",
      "Cluster 5: 0.608\n"
     ]
    }
   ],
   "source": [
    "# print class distribution\n",
    "unique_classes, class_counts = np.unique(y, return_counts=True)\n",
    "print(\"Class Distribution:\")\n",
    "for cls, count in zip(unique_classes, class_counts):\n",
    "    print(f\"   Class {cls}: {count} samples\")\n",
    "\n",
    "# print cluster centers\n",
    "print(\"\\nCluster Centers:\")\n",
    "for i, center in enumerate(kmeans.cluster_centers_):\n",
    "    print(f\"   Cluster {i}: [{', '.join(f'{v:.4f}' for v in center)}]\")\n",
    "\n",
    "# not required but useful to analyze clusters\n",
    "\n",
    "print(\"-------------------------------------------------------------------------------\")\n",
    "\n",
    "cluster = []\n",
    "for cluster_id in range(6):\n",
    "    labels_in_cluster = y[clusters == cluster_id]\n",
    "    total_in_cluster = len(labels_in_cluster)\n",
    "    \n",
    "    if total_in_cluster == 0:\n",
    "        continue\n",
    "    \n",
    "    # count each class\n",
    "    class_0_count = np.sum(labels_in_cluster == 0)\n",
    "    class_1_count = np.sum(labels_in_cluster == 1)\n",
    "    \n",
    "    # calculate purity\n",
    "    majority_count = max(class_0_count, class_1_count)\n",
    "    purity = majority_count / total_in_cluster\n",
    "    \n",
    "    cluster.append({\n",
    "        'cluster_id': cluster_id,\n",
    "        'total': total_in_cluster,\n",
    "        'class_0': class_0_count,\n",
    "        'class_1': class_1_count,\n",
    "        'majority_class': 0 if class_0_count > class_1_count else 1,\n",
    "        'purity': purity,\n",
    "    })\n",
    "    \n",
    "    print(f\"Cluster {cluster_id}: {total_in_cluster} samples\")\n",
    "    print(f\"   Class 0: {class_0_count} ({class_0_count/total_in_cluster*100:.1f}%)\")\n",
    "    print(f\"   Class 1: {class_1_count} ({class_1_count/total_in_cluster*100:.1f}%)\")\n",
    "    print(f\"   Majority class: {0 if class_0_count > class_1_count else 1}\")\n",
    "    print(f\"   Purity: {purity:.3f}\\n\")\n",
    "\n",
    "for c in cluster:\n",
    "    print(f\"Cluster {c['cluster_id']}: {c['purity']:.3f}\")"
   ]
  },
  {
   "cell_type": "markdown",
   "id": "8990faed",
   "metadata": {},
   "source": [
    "To choose the 3 most discriminative clusters, we compute the purity of each cluster, which measures the proportion of the majority class within that cluster. Higher purity indicates that the cluster more clearly represents a single class. Based on the computed purities, clusters 1, 2, and 5 are the most discriminative, with purities of 0.907, 0.623, and 0.608, respectively.\n",
    "\n",
    "Based on the results, cluster 1 has the highest purity (0.907) and predominantly contains Class 0 patients (non-diabetic). This indicates that it effectively groups patients with similar non-diabetic characteristics. Clusters 2 and 5, with purities around 0.6, are moderately discriminative, meaning they separate a fair proportion of diabetic and non-diabetic patients, but there is still notable class overlap within these clusters.\n",
    "\n",
    "In conclusion, clusters 1, 2 and 5 are the most discriminative among all clusters. Cluster 1 is the most reliable for identifying non-diabetic patients, while clusters 2 and 5 provide moderate, though less precise, separation between diabetic and non-diabetic patients."
   ]
  },
  {
   "cell_type": "markdown",
   "id": "0ef47f42",
   "metadata": {},
   "source": [
    "## 3) Part B: PCA"
   ]
  },
  {
   "cell_type": "markdown",
   "id": "184fee81",
   "metadata": {},
   "source": [
    "### 1."
   ]
  },
  {
   "cell_type": "code",
   "execution_count": 89,
   "id": "4483250b",
   "metadata": {},
   "outputs": [
    {
     "name": "stdout",
     "output_type": "stream",
     "text": [
      "Number of components to explain at least 80% variance: 5\n"
     ]
    },
    {
     "data": {
      "image/png": "[encoded data removed]",
      "text/plain": [
       "<Figure size 800x500 with 1 Axes>"
      ]
     },
     "metadata": {},
     "output_type": "display_data"
    }
   ],
   "source": [
    "# apply pca\n",
    "pca = PCA()\n",
    "pca.fit(X)\n",
    "explained_variance_ratio = pca.explained_variance_ratio_\n",
    "\n",
    "cumulative_variance = np.cumsum(explained_variance_ratio)\n",
    "\n",
    "n_components_80 = np.argmax(cumulative_variance >= 0.8) + 1\n",
    "print(f\"Number of components to explain at least 80% variance: {n_components_80}\")\n",
    "\n",
    "# plot the graph\n",
    "plt.figure(figsize=(8,5))\n",
    "plt.plot(range(1, len(cumulative_variance)+1), cumulative_variance, marker='o', linestyle='--')\n",
    "plt.xlabel('Number of PCA Components')\n",
    "plt.ylabel('Cumulative Explained Variance')\n",
    "plt.title('PCA - Cumulative Explained Variance')\n",
    "plt.axhline(y=0.8, color='r', linestyle=':') \n",
    "plt.grid(True)\n",
    "plt.show()\n"
   ]
  },
  {
   "cell_type": "markdown",
   "id": "860e1ace",
   "metadata": {},
   "source": [
    "### 2."
   ]
  },
  {
   "cell_type": "code",
   "execution_count": 104,
   "id": "d9251c31",
   "metadata": {},
   "outputs": [
    {
     "data": {
      "image/png": "[encoded data removed]",
      "text/plain": [
       "<Figure size 800x500 with 1 Axes>"
      ]
     },
     "metadata": {},
     "output_type": "display_data"
    }
   ],
   "source": [
    "pca = PCA(n_components=1)\n",
    "\n",
    "# add a collumn with the first principal component to the dataframe\n",
    "df['PC1'] = pca.fit_transform(X)\n",
    "\n",
    "# plot the graph\n",
    "plt.figure(figsize=(8,5))\n",
    "sns.boxplot(x='Outcome', y='PC1', data=df)\n",
    "plt.title('Class Distribution along the first principal component (PC1)')\n",
    "plt.xlabel('Outcome')\n",
    "plt.ylabel('PC1')\n",
    "plt.grid(linestyle='--')\n",
    "plt.show()"
   ]
  },
  {
   "cell_type": "markdown",
   "id": "3b777f2c",
   "metadata": {},
   "source": [
    "# AINDA FALTA REVER E MAYBE COMPLETAR"
   ]
  },
  {
   "cell_type": "markdown",
   "id": "44a82a42",
   "metadata": {},
   "source": [
    "The boxplot shows the class distribution along the first principal component (PC1). From the boxplot, we can observe that class 0 (non-diabetic) tends to have lower PC1 values, while class 1 (diabetic) generally has higher PC1 values. In class 0, the median of PC1 is below zero, indicating that most non-diabetic patients have negative PC1 scores. Class 1 has a wider interquartile range (IQR) than class 0, suggesting greater variability in PC1 values among diabetic patients. Additionally, there are some outliers in class 0 above the upper whisker, indicating that a few non-diabetic patients have unusually high PC1 values. Despite the difference in medians, the boxes overlap around 0.0, meaning that PC1 alone does not perfectly separate the two classes."
   ]
  },
  {
   "cell_type": "markdown",
   "id": "e3d444f0",
   "metadata": {},
   "source": [
    "### 3."
   ]
  },
  {
   "cell_type": "markdown",
   "id": "6ae67b6e",
   "metadata": {},
   "source": [
    "### 4."
   ]
  }
 ],
 "metadata": {
  "kernelspec": {
   "display_name": "Python 3",
   "language": "python",
   "name": "python3"
  },
  "language_info": {
   "codemirror_mode": {
    "name": "ipython",
    "version": 3
   },
   "file_extension": ".py",
   "mimetype": "text/x-python",
   "name": "python",
   "nbconvert_exporter": "python",
   "pygments_lexer": "ipython3",
   "version": "3.10.12"
  }
 },
 "nbformat": 4,
 "nbformat_minor": 5
}
